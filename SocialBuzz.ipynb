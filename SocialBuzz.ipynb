{
 "cells": [
  {
   "cell_type": "markdown",
   "id": "bb006d60",
   "metadata": {},
   "source": [
    "Import"
   ]
  },
  {
   "cell_type": "code",
   "execution_count": 99,
   "id": "6a8a90c8",
   "metadata": {},
   "outputs": [],
   "source": [
    "import pandas as pd\n",
    "import numpy as np\n",
    "import seaborn as sns\n",
    "import matplotlib.pyplot as plt"
   ]
  },
  {
   "cell_type": "markdown",
   "id": "f70d97b1",
   "metadata": {},
   "source": [
    "Data Understanding"
   ]
  },
  {
   "cell_type": "code",
   "execution_count": 100,
   "id": "20260aa1",
   "metadata": {},
   "outputs": [],
   "source": [
    "dt_content = pd.read_csv(\"Content.csv\")\n",
    "dt_reactions = pd.read_csv(\"Reactions.csv\")\n",
    "dt_reactiontypes = pd.read_csv(\"ReactionTypes.csv\")"
   ]
  },
  {
   "cell_type": "code",
   "execution_count": 101,
   "id": "c73b6724",
   "metadata": {},
   "outputs": [
    {
     "data": {
      "text/html": [
       "<div>\n",
       "<style scoped>\n",
       "    .dataframe tbody tr th:only-of-type {\n",
       "        vertical-align: middle;\n",
       "    }\n",
       "\n",
       "    .dataframe tbody tr th {\n",
       "        vertical-align: top;\n",
       "    }\n",
       "\n",
       "    .dataframe thead th {\n",
       "        text-align: right;\n",
       "    }\n",
       "</style>\n",
       "<table border=\"1\" class=\"dataframe\">\n",
       "  <thead>\n",
       "    <tr style=\"text-align: right;\">\n",
       "      <th></th>\n",
       "      <th>Unnamed: 0</th>\n",
       "      <th>Content ID</th>\n",
       "      <th>User ID</th>\n",
       "      <th>Type</th>\n",
       "      <th>Category</th>\n",
       "      <th>URL</th>\n",
       "    </tr>\n",
       "  </thead>\n",
       "  <tbody>\n",
       "    <tr>\n",
       "      <th>0</th>\n",
       "      <td>0</td>\n",
       "      <td>97522e57-d9ab-4bd6-97bf-c24d952602d2</td>\n",
       "      <td>8d3cd87d-8a31-4935-9a4f-b319bfe05f31</td>\n",
       "      <td>photo</td>\n",
       "      <td>Studying</td>\n",
       "      <td>https://socialbuzz.cdn.com/content/storage/975...</td>\n",
       "    </tr>\n",
       "    <tr>\n",
       "      <th>1</th>\n",
       "      <td>1</td>\n",
       "      <td>9f737e0a-3cdd-4d29-9d24-753f4e3be810</td>\n",
       "      <td>beb1f34e-7870-46d6-9fc7-2e12eb83ce43</td>\n",
       "      <td>photo</td>\n",
       "      <td>healthy eating</td>\n",
       "      <td>https://socialbuzz.cdn.com/content/storage/9f7...</td>\n",
       "    </tr>\n",
       "    <tr>\n",
       "      <th>2</th>\n",
       "      <td>2</td>\n",
       "      <td>230c4e4d-70c3-461d-b42c-ec09396efb3f</td>\n",
       "      <td>a5c65404-5894-4b87-82f2-d787cbee86b4</td>\n",
       "      <td>photo</td>\n",
       "      <td>healthy eating</td>\n",
       "      <td>https://socialbuzz.cdn.com/content/storage/230...</td>\n",
       "    </tr>\n",
       "    <tr>\n",
       "      <th>3</th>\n",
       "      <td>3</td>\n",
       "      <td>356fff80-da4d-4785-9f43-bc1261031dc6</td>\n",
       "      <td>9fb4ce88-fac1-406c-8544-1a899cee7aaf</td>\n",
       "      <td>photo</td>\n",
       "      <td>technology</td>\n",
       "      <td>https://socialbuzz.cdn.com/content/storage/356...</td>\n",
       "    </tr>\n",
       "    <tr>\n",
       "      <th>4</th>\n",
       "      <td>4</td>\n",
       "      <td>01ab84dd-6364-4236-abbb-3f237db77180</td>\n",
       "      <td>e206e31b-5f85-4964-b6ea-d7ee5324def1</td>\n",
       "      <td>video</td>\n",
       "      <td>food</td>\n",
       "      <td>https://socialbuzz.cdn.com/content/storage/01a...</td>\n",
       "    </tr>\n",
       "    <tr>\n",
       "      <th>...</th>\n",
       "      <td>...</td>\n",
       "      <td>...</td>\n",
       "      <td>...</td>\n",
       "      <td>...</td>\n",
       "      <td>...</td>\n",
       "      <td>...</td>\n",
       "    </tr>\n",
       "    <tr>\n",
       "      <th>995</th>\n",
       "      <td>995</td>\n",
       "      <td>b4cef9ef-627b-41d7-a051-5961b0204ebb</td>\n",
       "      <td>5b62e10e-3c19-4d28-a57c-e9bdc3d6758d</td>\n",
       "      <td>video</td>\n",
       "      <td>public speaking</td>\n",
       "      <td>NaN</td>\n",
       "    </tr>\n",
       "    <tr>\n",
       "      <th>996</th>\n",
       "      <td>996</td>\n",
       "      <td>7a79f4e4-3b7d-44dc-bdef-bc990740252c</td>\n",
       "      <td>4fe420fa-a193-4408-bd5d-62a020233609</td>\n",
       "      <td>GIF</td>\n",
       "      <td>technology</td>\n",
       "      <td>https://socialbuzz.cdn.com/content/storage/7a7...</td>\n",
       "    </tr>\n",
       "    <tr>\n",
       "      <th>997</th>\n",
       "      <td>997</td>\n",
       "      <td>435007a5-6261-4d8b-b0a4-55fdc189754b</td>\n",
       "      <td>35d6a1f3-e358-4d4b-8074-05f3b7f35c2a</td>\n",
       "      <td>audio</td>\n",
       "      <td>veganism</td>\n",
       "      <td>https://socialbuzz.cdn.com/content/storage/435...</td>\n",
       "    </tr>\n",
       "    <tr>\n",
       "      <th>998</th>\n",
       "      <td>998</td>\n",
       "      <td>4e4c9690-c013-4ee7-9e66-943d8cbd27b7</td>\n",
       "      <td>b9bcd994-f000-4f6b-87fc-caae08acfaa1</td>\n",
       "      <td>GIF</td>\n",
       "      <td>culture</td>\n",
       "      <td>https://socialbuzz.cdn.com/content/storage/4e4...</td>\n",
       "    </tr>\n",
       "    <tr>\n",
       "      <th>999</th>\n",
       "      <td>999</td>\n",
       "      <td>75d6b589-7fae-4a6d-b0d0-752845150e56</td>\n",
       "      <td>b8c653b5-0118-4d7e-9bde-07c2de90f0ff</td>\n",
       "      <td>audio</td>\n",
       "      <td>technology</td>\n",
       "      <td>https://socialbuzz.cdn.com/content/storage/75d...</td>\n",
       "    </tr>\n",
       "  </tbody>\n",
       "</table>\n",
       "<p>1000 rows × 6 columns</p>\n",
       "</div>"
      ],
      "text/plain": [
       "     Unnamed: 0                            Content ID  \\\n",
       "0             0  97522e57-d9ab-4bd6-97bf-c24d952602d2   \n",
       "1             1  9f737e0a-3cdd-4d29-9d24-753f4e3be810   \n",
       "2             2  230c4e4d-70c3-461d-b42c-ec09396efb3f   \n",
       "3             3  356fff80-da4d-4785-9f43-bc1261031dc6   \n",
       "4             4  01ab84dd-6364-4236-abbb-3f237db77180   \n",
       "..          ...                                   ...   \n",
       "995         995  b4cef9ef-627b-41d7-a051-5961b0204ebb   \n",
       "996         996  7a79f4e4-3b7d-44dc-bdef-bc990740252c   \n",
       "997         997  435007a5-6261-4d8b-b0a4-55fdc189754b   \n",
       "998         998  4e4c9690-c013-4ee7-9e66-943d8cbd27b7   \n",
       "999         999  75d6b589-7fae-4a6d-b0d0-752845150e56   \n",
       "\n",
       "                                  User ID   Type         Category  \\\n",
       "0    8d3cd87d-8a31-4935-9a4f-b319bfe05f31  photo         Studying   \n",
       "1    beb1f34e-7870-46d6-9fc7-2e12eb83ce43  photo   healthy eating   \n",
       "2    a5c65404-5894-4b87-82f2-d787cbee86b4  photo   healthy eating   \n",
       "3    9fb4ce88-fac1-406c-8544-1a899cee7aaf  photo       technology   \n",
       "4    e206e31b-5f85-4964-b6ea-d7ee5324def1  video             food   \n",
       "..                                    ...    ...              ...   \n",
       "995  5b62e10e-3c19-4d28-a57c-e9bdc3d6758d  video  public speaking   \n",
       "996  4fe420fa-a193-4408-bd5d-62a020233609    GIF       technology   \n",
       "997  35d6a1f3-e358-4d4b-8074-05f3b7f35c2a  audio         veganism   \n",
       "998  b9bcd994-f000-4f6b-87fc-caae08acfaa1    GIF          culture   \n",
       "999  b8c653b5-0118-4d7e-9bde-07c2de90f0ff  audio       technology   \n",
       "\n",
       "                                                   URL  \n",
       "0    https://socialbuzz.cdn.com/content/storage/975...  \n",
       "1    https://socialbuzz.cdn.com/content/storage/9f7...  \n",
       "2    https://socialbuzz.cdn.com/content/storage/230...  \n",
       "3    https://socialbuzz.cdn.com/content/storage/356...  \n",
       "4    https://socialbuzz.cdn.com/content/storage/01a...  \n",
       "..                                                 ...  \n",
       "995                                                NaN  \n",
       "996  https://socialbuzz.cdn.com/content/storage/7a7...  \n",
       "997  https://socialbuzz.cdn.com/content/storage/435...  \n",
       "998  https://socialbuzz.cdn.com/content/storage/4e4...  \n",
       "999  https://socialbuzz.cdn.com/content/storage/75d...  \n",
       "\n",
       "[1000 rows x 6 columns]"
      ]
     },
     "execution_count": 101,
     "metadata": {},
     "output_type": "execute_result"
    }
   ],
   "source": [
    "dt_content"
   ]
  },
  {
   "cell_type": "code",
   "execution_count": 102,
   "id": "87c00a4b",
   "metadata": {},
   "outputs": [
    {
     "data": {
      "text/plain": [
       "Index(['Unnamed: 0', 'Content ID', 'User ID', 'Type', 'Datetime'], dtype='object')"
      ]
     },
     "execution_count": 102,
     "metadata": {},
     "output_type": "execute_result"
    }
   ],
   "source": [
    "dt_reactions.columns"
   ]
  },
  {
   "cell_type": "code",
   "execution_count": 103,
   "id": "c16d3c0f",
   "metadata": {},
   "outputs": [
    {
     "data": {
      "text/plain": [
       "Index(['Unnamed: 0', 'Type', 'Sentiment', 'Score'], dtype='object')"
      ]
     },
     "execution_count": 103,
     "metadata": {},
     "output_type": "execute_result"
    }
   ],
   "source": [
    "dt_reactiontypes.columns"
   ]
  },
  {
   "cell_type": "code",
   "execution_count": 104,
   "id": "c2844853",
   "metadata": {},
   "outputs": [
    {
     "data": {
      "text/plain": [
       "Unnamed: 0      0\n",
       "Content ID      0\n",
       "User ID         0\n",
       "Type            0\n",
       "Category        0\n",
       "URL           199\n",
       "dtype: int64"
      ]
     },
     "execution_count": 104,
     "metadata": {},
     "output_type": "execute_result"
    }
   ],
   "source": [
    "# Check nos valores vazios \n",
    "dt_content.isnull().sum()"
   ]
  },
  {
   "cell_type": "code",
   "execution_count": 105,
   "id": "5f4b5d50",
   "metadata": {},
   "outputs": [
    {
     "data": {
      "text/plain": [
       "Unnamed: 0       0\n",
       "Content ID       0\n",
       "User ID       3019\n",
       "Type           980\n",
       "Datetime         0\n",
       "dtype: int64"
      ]
     },
     "execution_count": 105,
     "metadata": {},
     "output_type": "execute_result"
    }
   ],
   "source": [
    "# Check nos valores vazios \n",
    "dt_reactions.isnull().sum()"
   ]
  },
  {
   "cell_type": "code",
   "execution_count": 106,
   "id": "ba06e737",
   "metadata": {},
   "outputs": [
    {
     "data": {
      "text/plain": [
       "Unnamed: 0    0\n",
       "Type          0\n",
       "Sentiment     0\n",
       "Score         0\n",
       "dtype: int64"
      ]
     },
     "execution_count": 106,
     "metadata": {},
     "output_type": "execute_result"
    }
   ],
   "source": [
    "# Check nos valores vazios \n",
    "dt_reactiontypes.isnull().sum()"
   ]
  },
  {
   "cell_type": "markdown",
   "id": "da827ac1",
   "metadata": {},
   "source": [
    "Data Cleaning"
   ]
  },
  {
   "cell_type": "code",
   "execution_count": 107,
   "id": "aecb3f42",
   "metadata": {},
   "outputs": [],
   "source": [
    "#Chave em comum será o contentID\n",
    "#O UserID será removido, pois o que nos importa são o conteudo e tem valores missing.\n",
    "#O Datatime não será removido, pois podemos realizar a analise mensal.\n",
    "#O Type não será removido do dt_reactions mas seus valores nulos serão removidos.\n",
    "\n",
    "dt_content.drop(columns=['URL','Unnamed: 0','User ID'], inplace=True)\n",
    "dt_reactions.drop(columns=['Unnamed: 0','User ID'], inplace=True)\n",
    "dt_reactiontypes.drop(columns=['Unnamed: 0'], inplace=True)"
   ]
  },
  {
   "cell_type": "code",
   "execution_count": 108,
   "id": "68851c76",
   "metadata": {},
   "outputs": [],
   "source": [
    "#O Type não será removido do dt_reactions mas seus valores nulos serão removidos.\n",
    "dt_reactions = dt_reactions.dropna(subset=['Type'])"
   ]
  },
  {
   "cell_type": "markdown",
   "id": "171e204e",
   "metadata": {},
   "source": [
    "Data Modelling"
   ]
  },
  {
   "cell_type": "code",
   "execution_count": 110,
   "id": "4ff1036c",
   "metadata": {},
   "outputs": [],
   "source": [
    "#Utilizando reaction dataframe como base, recomendado pela Accenture."
   ]
  },
  {
   "cell_type": "code",
   "execution_count": 111,
   "id": "7887cbe6",
   "metadata": {},
   "outputs": [
    {
     "data": {
      "text/html": [
       "<div>\n",
       "<style scoped>\n",
       "    .dataframe tbody tr th:only-of-type {\n",
       "        vertical-align: middle;\n",
       "    }\n",
       "\n",
       "    .dataframe tbody tr th {\n",
       "        vertical-align: top;\n",
       "    }\n",
       "\n",
       "    .dataframe thead th {\n",
       "        text-align: right;\n",
       "    }\n",
       "</style>\n",
       "<table border=\"1\" class=\"dataframe\">\n",
       "  <thead>\n",
       "    <tr style=\"text-align: right;\">\n",
       "      <th></th>\n",
       "      <th>Content ID</th>\n",
       "      <th>Type</th>\n",
       "      <th>Datetime</th>\n",
       "    </tr>\n",
       "  </thead>\n",
       "  <tbody>\n",
       "    <tr>\n",
       "      <th>1</th>\n",
       "      <td>97522e57-d9ab-4bd6-97bf-c24d952602d2</td>\n",
       "      <td>disgust</td>\n",
       "      <td>2020-11-07 09:43:50</td>\n",
       "    </tr>\n",
       "    <tr>\n",
       "      <th>2</th>\n",
       "      <td>97522e57-d9ab-4bd6-97bf-c24d952602d2</td>\n",
       "      <td>dislike</td>\n",
       "      <td>2021-06-17 12:22:51</td>\n",
       "    </tr>\n",
       "    <tr>\n",
       "      <th>3</th>\n",
       "      <td>97522e57-d9ab-4bd6-97bf-c24d952602d2</td>\n",
       "      <td>scared</td>\n",
       "      <td>2021-04-18 05:13:58</td>\n",
       "    </tr>\n",
       "    <tr>\n",
       "      <th>4</th>\n",
       "      <td>97522e57-d9ab-4bd6-97bf-c24d952602d2</td>\n",
       "      <td>disgust</td>\n",
       "      <td>2021-01-06 19:13:01</td>\n",
       "    </tr>\n",
       "    <tr>\n",
       "      <th>5</th>\n",
       "      <td>97522e57-d9ab-4bd6-97bf-c24d952602d2</td>\n",
       "      <td>interested</td>\n",
       "      <td>2020-08-23 12:25:58</td>\n",
       "    </tr>\n",
       "  </tbody>\n",
       "</table>\n",
       "</div>"
      ],
      "text/plain": [
       "                             Content ID        Type             Datetime\n",
       "1  97522e57-d9ab-4bd6-97bf-c24d952602d2     disgust  2020-11-07 09:43:50\n",
       "2  97522e57-d9ab-4bd6-97bf-c24d952602d2     dislike  2021-06-17 12:22:51\n",
       "3  97522e57-d9ab-4bd6-97bf-c24d952602d2      scared  2021-04-18 05:13:58\n",
       "4  97522e57-d9ab-4bd6-97bf-c24d952602d2     disgust  2021-01-06 19:13:01\n",
       "5  97522e57-d9ab-4bd6-97bf-c24d952602d2  interested  2020-08-23 12:25:58"
      ]
     },
     "execution_count": 111,
     "metadata": {},
     "output_type": "execute_result"
    }
   ],
   "source": [
    "dt_reactions.head()"
   ]
  },
  {
   "cell_type": "code",
   "execution_count": 112,
   "id": "f7892acf",
   "metadata": {},
   "outputs": [
    {
     "data": {
      "text/html": [
       "<div>\n",
       "<style scoped>\n",
       "    .dataframe tbody tr th:only-of-type {\n",
       "        vertical-align: middle;\n",
       "    }\n",
       "\n",
       "    .dataframe tbody tr th {\n",
       "        vertical-align: top;\n",
       "    }\n",
       "\n",
       "    .dataframe thead th {\n",
       "        text-align: right;\n",
       "    }\n",
       "</style>\n",
       "<table border=\"1\" class=\"dataframe\">\n",
       "  <thead>\n",
       "    <tr style=\"text-align: right;\">\n",
       "      <th></th>\n",
       "      <th>Content ID</th>\n",
       "      <th>Type_x</th>\n",
       "      <th>Datetime</th>\n",
       "      <th>Type_y</th>\n",
       "      <th>Category</th>\n",
       "    </tr>\n",
       "  </thead>\n",
       "  <tbody>\n",
       "    <tr>\n",
       "      <th>0</th>\n",
       "      <td>97522e57-d9ab-4bd6-97bf-c24d952602d2</td>\n",
       "      <td>disgust</td>\n",
       "      <td>2020-11-07 09:43:50</td>\n",
       "      <td>photo</td>\n",
       "      <td>Studying</td>\n",
       "    </tr>\n",
       "    <tr>\n",
       "      <th>1</th>\n",
       "      <td>97522e57-d9ab-4bd6-97bf-c24d952602d2</td>\n",
       "      <td>dislike</td>\n",
       "      <td>2021-06-17 12:22:51</td>\n",
       "      <td>photo</td>\n",
       "      <td>Studying</td>\n",
       "    </tr>\n",
       "    <tr>\n",
       "      <th>2</th>\n",
       "      <td>97522e57-d9ab-4bd6-97bf-c24d952602d2</td>\n",
       "      <td>scared</td>\n",
       "      <td>2021-04-18 05:13:58</td>\n",
       "      <td>photo</td>\n",
       "      <td>Studying</td>\n",
       "    </tr>\n",
       "    <tr>\n",
       "      <th>3</th>\n",
       "      <td>97522e57-d9ab-4bd6-97bf-c24d952602d2</td>\n",
       "      <td>disgust</td>\n",
       "      <td>2021-01-06 19:13:01</td>\n",
       "      <td>photo</td>\n",
       "      <td>Studying</td>\n",
       "    </tr>\n",
       "    <tr>\n",
       "      <th>4</th>\n",
       "      <td>97522e57-d9ab-4bd6-97bf-c24d952602d2</td>\n",
       "      <td>interested</td>\n",
       "      <td>2020-08-23 12:25:58</td>\n",
       "      <td>photo</td>\n",
       "      <td>Studying</td>\n",
       "    </tr>\n",
       "  </tbody>\n",
       "</table>\n",
       "</div>"
      ],
      "text/plain": [
       "                             Content ID      Type_x             Datetime  \\\n",
       "0  97522e57-d9ab-4bd6-97bf-c24d952602d2     disgust  2020-11-07 09:43:50   \n",
       "1  97522e57-d9ab-4bd6-97bf-c24d952602d2     dislike  2021-06-17 12:22:51   \n",
       "2  97522e57-d9ab-4bd6-97bf-c24d952602d2      scared  2021-04-18 05:13:58   \n",
       "3  97522e57-d9ab-4bd6-97bf-c24d952602d2     disgust  2021-01-06 19:13:01   \n",
       "4  97522e57-d9ab-4bd6-97bf-c24d952602d2  interested  2020-08-23 12:25:58   \n",
       "\n",
       "  Type_y  Category  \n",
       "0  photo  Studying  \n",
       "1  photo  Studying  \n",
       "2  photo  Studying  \n",
       "3  photo  Studying  \n",
       "4  photo  Studying  "
      ]
     },
     "execution_count": 112,
     "metadata": {},
     "output_type": "execute_result"
    }
   ],
   "source": [
    "dt_cont_react = pd.merge(dt_reactions, dt_content,  \n",
    "                         on=['Content ID'],\n",
    "                            how='outer')\n",
    "dt_cont_react.head()"
   ]
  },
  {
   "cell_type": "code",
   "execution_count": 113,
   "id": "c2d155ed",
   "metadata": {
    "scrolled": true
   },
   "outputs": [
    {
     "data": {
      "text/plain": [
       "Content ID     0\n",
       "Type_x        38\n",
       "Datetime      38\n",
       "Type_y         0\n",
       "Category       0\n",
       "dtype: int64"
      ]
     },
     "execution_count": 113,
     "metadata": {},
     "output_type": "execute_result"
    }
   ],
   "source": [
    "dt_cont_react.isnull().sum()"
   ]
  },
  {
   "cell_type": "code",
   "execution_count": 114,
   "id": "4a11abc0",
   "metadata": {},
   "outputs": [],
   "source": [
    "dt_cont_react = dt_cont_react.rename(columns={'Type_y': 'Type', 'Type_x': 'Reaction'})\n",
    "dt_reactiontypes = dt_reactiontypes.rename(columns={'Type': 'Reaction'})"
   ]
  },
  {
   "cell_type": "code",
   "execution_count": 115,
   "id": "857e4096",
   "metadata": {},
   "outputs": [
    {
     "data": {
      "text/html": [
       "<div>\n",
       "<style scoped>\n",
       "    .dataframe tbody tr th:only-of-type {\n",
       "        vertical-align: middle;\n",
       "    }\n",
       "\n",
       "    .dataframe tbody tr th {\n",
       "        vertical-align: top;\n",
       "    }\n",
       "\n",
       "    .dataframe thead th {\n",
       "        text-align: right;\n",
       "    }\n",
       "</style>\n",
       "<table border=\"1\" class=\"dataframe\">\n",
       "  <thead>\n",
       "    <tr style=\"text-align: right;\">\n",
       "      <th></th>\n",
       "      <th>Reaction</th>\n",
       "      <th>Sentiment</th>\n",
       "      <th>Score</th>\n",
       "    </tr>\n",
       "  </thead>\n",
       "  <tbody>\n",
       "    <tr>\n",
       "      <th>0</th>\n",
       "      <td>heart</td>\n",
       "      <td>positive</td>\n",
       "      <td>60</td>\n",
       "    </tr>\n",
       "    <tr>\n",
       "      <th>1</th>\n",
       "      <td>want</td>\n",
       "      <td>positive</td>\n",
       "      <td>70</td>\n",
       "    </tr>\n",
       "    <tr>\n",
       "      <th>2</th>\n",
       "      <td>disgust</td>\n",
       "      <td>negative</td>\n",
       "      <td>0</td>\n",
       "    </tr>\n",
       "    <tr>\n",
       "      <th>3</th>\n",
       "      <td>hate</td>\n",
       "      <td>negative</td>\n",
       "      <td>5</td>\n",
       "    </tr>\n",
       "    <tr>\n",
       "      <th>4</th>\n",
       "      <td>interested</td>\n",
       "      <td>positive</td>\n",
       "      <td>30</td>\n",
       "    </tr>\n",
       "  </tbody>\n",
       "</table>\n",
       "</div>"
      ],
      "text/plain": [
       "     Reaction Sentiment  Score\n",
       "0       heart  positive     60\n",
       "1        want  positive     70\n",
       "2     disgust  negative      0\n",
       "3        hate  negative      5\n",
       "4  interested  positive     30"
      ]
     },
     "execution_count": 115,
     "metadata": {},
     "output_type": "execute_result"
    }
   ],
   "source": [
    "dt_reactiontypes.head()"
   ]
  },
  {
   "cell_type": "code",
   "execution_count": 116,
   "id": "db903cfb",
   "metadata": {},
   "outputs": [
    {
     "data": {
      "text/html": [
       "<div>\n",
       "<style scoped>\n",
       "    .dataframe tbody tr th:only-of-type {\n",
       "        vertical-align: middle;\n",
       "    }\n",
       "\n",
       "    .dataframe tbody tr th {\n",
       "        vertical-align: top;\n",
       "    }\n",
       "\n",
       "    .dataframe thead th {\n",
       "        text-align: right;\n",
       "    }\n",
       "</style>\n",
       "<table border=\"1\" class=\"dataframe\">\n",
       "  <thead>\n",
       "    <tr style=\"text-align: right;\">\n",
       "      <th></th>\n",
       "      <th>Content ID</th>\n",
       "      <th>Reaction</th>\n",
       "      <th>Datetime</th>\n",
       "      <th>Type</th>\n",
       "      <th>Category</th>\n",
       "      <th>Sentiment</th>\n",
       "      <th>Score</th>\n",
       "    </tr>\n",
       "  </thead>\n",
       "  <tbody>\n",
       "    <tr>\n",
       "      <th>0</th>\n",
       "      <td>97522e57-d9ab-4bd6-97bf-c24d952602d2</td>\n",
       "      <td>disgust</td>\n",
       "      <td>2020-11-07 09:43:50</td>\n",
       "      <td>photo</td>\n",
       "      <td>Studying</td>\n",
       "      <td>negative</td>\n",
       "      <td>0</td>\n",
       "    </tr>\n",
       "    <tr>\n",
       "      <th>1</th>\n",
       "      <td>97522e57-d9ab-4bd6-97bf-c24d952602d2</td>\n",
       "      <td>disgust</td>\n",
       "      <td>2021-01-06 19:13:01</td>\n",
       "      <td>photo</td>\n",
       "      <td>Studying</td>\n",
       "      <td>negative</td>\n",
       "      <td>0</td>\n",
       "    </tr>\n",
       "    <tr>\n",
       "      <th>2</th>\n",
       "      <td>97522e57-d9ab-4bd6-97bf-c24d952602d2</td>\n",
       "      <td>disgust</td>\n",
       "      <td>2021-04-09 02:46:20</td>\n",
       "      <td>photo</td>\n",
       "      <td>Studying</td>\n",
       "      <td>negative</td>\n",
       "      <td>0</td>\n",
       "    </tr>\n",
       "    <tr>\n",
       "      <th>3</th>\n",
       "      <td>9f737e0a-3cdd-4d29-9d24-753f4e3be810</td>\n",
       "      <td>disgust</td>\n",
       "      <td>2021-03-28 21:15:26</td>\n",
       "      <td>photo</td>\n",
       "      <td>healthy eating</td>\n",
       "      <td>negative</td>\n",
       "      <td>0</td>\n",
       "    </tr>\n",
       "    <tr>\n",
       "      <th>4</th>\n",
       "      <td>230c4e4d-70c3-461d-b42c-ec09396efb3f</td>\n",
       "      <td>disgust</td>\n",
       "      <td>2020-08-04 05:40:33</td>\n",
       "      <td>photo</td>\n",
       "      <td>healthy eating</td>\n",
       "      <td>negative</td>\n",
       "      <td>0</td>\n",
       "    </tr>\n",
       "  </tbody>\n",
       "</table>\n",
       "</div>"
      ],
      "text/plain": [
       "                             Content ID Reaction             Datetime   Type  \\\n",
       "0  97522e57-d9ab-4bd6-97bf-c24d952602d2  disgust  2020-11-07 09:43:50  photo   \n",
       "1  97522e57-d9ab-4bd6-97bf-c24d952602d2  disgust  2021-01-06 19:13:01  photo   \n",
       "2  97522e57-d9ab-4bd6-97bf-c24d952602d2  disgust  2021-04-09 02:46:20  photo   \n",
       "3  9f737e0a-3cdd-4d29-9d24-753f4e3be810  disgust  2021-03-28 21:15:26  photo   \n",
       "4  230c4e4d-70c3-461d-b42c-ec09396efb3f  disgust  2020-08-04 05:40:33  photo   \n",
       "\n",
       "         Category Sentiment  Score  \n",
       "0        Studying  negative      0  \n",
       "1        Studying  negative      0  \n",
       "2        Studying  negative      0  \n",
       "3  healthy eating  negative      0  \n",
       "4  healthy eating  negative      0  "
      ]
     },
     "execution_count": 116,
     "metadata": {},
     "output_type": "execute_result"
    }
   ],
   "source": [
    "dt_cont_react = pd.merge(dt_cont_react, dt_reactiontypes, \n",
    "                         on=['Reaction'])\n",
    "dt_cont_react.head()"
   ]
  },
  {
   "cell_type": "code",
   "execution_count": 117,
   "id": "071140c4",
   "metadata": {},
   "outputs": [],
   "source": [
    "# Converter a coluna 'Datetime' para o tipo datetime\n",
    "dt_cont_react['Datetime'] = pd.to_datetime(dt_cont_react['Datetime'])\n",
    "\n",
    "# Extrair o month da coluna 'Datetime'\n",
    "dt_cont_react['Month'] = dt_cont_react['Datetime'].dt.month"
   ]
  },
  {
   "cell_type": "code",
   "execution_count": 119,
   "id": "7f0bcb34",
   "metadata": {},
   "outputs": [
    {
     "data": {
      "text/html": [
       "<div>\n",
       "<style scoped>\n",
       "    .dataframe tbody tr th:only-of-type {\n",
       "        vertical-align: middle;\n",
       "    }\n",
       "\n",
       "    .dataframe tbody tr th {\n",
       "        vertical-align: top;\n",
       "    }\n",
       "\n",
       "    .dataframe thead th {\n",
       "        text-align: right;\n",
       "    }\n",
       "</style>\n",
       "<table border=\"1\" class=\"dataframe\">\n",
       "  <thead>\n",
       "    <tr style=\"text-align: right;\">\n",
       "      <th></th>\n",
       "      <th>Content ID</th>\n",
       "      <th>Reaction</th>\n",
       "      <th>Type</th>\n",
       "      <th>Category</th>\n",
       "      <th>Sentiment</th>\n",
       "      <th>Score</th>\n",
       "      <th>Month</th>\n",
       "    </tr>\n",
       "  </thead>\n",
       "  <tbody>\n",
       "    <tr>\n",
       "      <th>0</th>\n",
       "      <td>97522e57-d9ab-4bd6-97bf-c24d952602d2</td>\n",
       "      <td>disgust</td>\n",
       "      <td>photo</td>\n",
       "      <td>Studying</td>\n",
       "      <td>negative</td>\n",
       "      <td>0</td>\n",
       "      <td>11</td>\n",
       "    </tr>\n",
       "    <tr>\n",
       "      <th>1</th>\n",
       "      <td>97522e57-d9ab-4bd6-97bf-c24d952602d2</td>\n",
       "      <td>disgust</td>\n",
       "      <td>photo</td>\n",
       "      <td>Studying</td>\n",
       "      <td>negative</td>\n",
       "      <td>0</td>\n",
       "      <td>1</td>\n",
       "    </tr>\n",
       "    <tr>\n",
       "      <th>2</th>\n",
       "      <td>97522e57-d9ab-4bd6-97bf-c24d952602d2</td>\n",
       "      <td>disgust</td>\n",
       "      <td>photo</td>\n",
       "      <td>Studying</td>\n",
       "      <td>negative</td>\n",
       "      <td>0</td>\n",
       "      <td>4</td>\n",
       "    </tr>\n",
       "    <tr>\n",
       "      <th>3</th>\n",
       "      <td>9f737e0a-3cdd-4d29-9d24-753f4e3be810</td>\n",
       "      <td>disgust</td>\n",
       "      <td>photo</td>\n",
       "      <td>healthy eating</td>\n",
       "      <td>negative</td>\n",
       "      <td>0</td>\n",
       "      <td>3</td>\n",
       "    </tr>\n",
       "    <tr>\n",
       "      <th>4</th>\n",
       "      <td>230c4e4d-70c3-461d-b42c-ec09396efb3f</td>\n",
       "      <td>disgust</td>\n",
       "      <td>photo</td>\n",
       "      <td>healthy eating</td>\n",
       "      <td>negative</td>\n",
       "      <td>0</td>\n",
       "      <td>8</td>\n",
       "    </tr>\n",
       "    <tr>\n",
       "      <th>...</th>\n",
       "      <td>...</td>\n",
       "      <td>...</td>\n",
       "      <td>...</td>\n",
       "      <td>...</td>\n",
       "      <td>...</td>\n",
       "      <td>...</td>\n",
       "      <td>...</td>\n",
       "    </tr>\n",
       "    <tr>\n",
       "      <th>24568</th>\n",
       "      <td>435007a5-6261-4d8b-b0a4-55fdc189754b</td>\n",
       "      <td>adore</td>\n",
       "      <td>audio</td>\n",
       "      <td>veganism</td>\n",
       "      <td>positive</td>\n",
       "      <td>72</td>\n",
       "      <td>10</td>\n",
       "    </tr>\n",
       "    <tr>\n",
       "      <th>24569</th>\n",
       "      <td>435007a5-6261-4d8b-b0a4-55fdc189754b</td>\n",
       "      <td>adore</td>\n",
       "      <td>audio</td>\n",
       "      <td>veganism</td>\n",
       "      <td>positive</td>\n",
       "      <td>72</td>\n",
       "      <td>9</td>\n",
       "    </tr>\n",
       "    <tr>\n",
       "      <th>24570</th>\n",
       "      <td>4e4c9690-c013-4ee7-9e66-943d8cbd27b7</td>\n",
       "      <td>adore</td>\n",
       "      <td>GIF</td>\n",
       "      <td>culture</td>\n",
       "      <td>positive</td>\n",
       "      <td>72</td>\n",
       "      <td>10</td>\n",
       "    </tr>\n",
       "    <tr>\n",
       "      <th>24571</th>\n",
       "      <td>4e4c9690-c013-4ee7-9e66-943d8cbd27b7</td>\n",
       "      <td>adore</td>\n",
       "      <td>GIF</td>\n",
       "      <td>culture</td>\n",
       "      <td>positive</td>\n",
       "      <td>72</td>\n",
       "      <td>6</td>\n",
       "    </tr>\n",
       "    <tr>\n",
       "      <th>24572</th>\n",
       "      <td>4e4c9690-c013-4ee7-9e66-943d8cbd27b7</td>\n",
       "      <td>adore</td>\n",
       "      <td>GIF</td>\n",
       "      <td>culture</td>\n",
       "      <td>positive</td>\n",
       "      <td>72</td>\n",
       "      <td>12</td>\n",
       "    </tr>\n",
       "  </tbody>\n",
       "</table>\n",
       "<p>24573 rows × 7 columns</p>\n",
       "</div>"
      ],
      "text/plain": [
       "                                 Content ID Reaction   Type        Category  \\\n",
       "0      97522e57-d9ab-4bd6-97bf-c24d952602d2  disgust  photo        Studying   \n",
       "1      97522e57-d9ab-4bd6-97bf-c24d952602d2  disgust  photo        Studying   \n",
       "2      97522e57-d9ab-4bd6-97bf-c24d952602d2  disgust  photo        Studying   \n",
       "3      9f737e0a-3cdd-4d29-9d24-753f4e3be810  disgust  photo  healthy eating   \n",
       "4      230c4e4d-70c3-461d-b42c-ec09396efb3f  disgust  photo  healthy eating   \n",
       "...                                     ...      ...    ...             ...   \n",
       "24568  435007a5-6261-4d8b-b0a4-55fdc189754b    adore  audio        veganism   \n",
       "24569  435007a5-6261-4d8b-b0a4-55fdc189754b    adore  audio        veganism   \n",
       "24570  4e4c9690-c013-4ee7-9e66-943d8cbd27b7    adore    GIF         culture   \n",
       "24571  4e4c9690-c013-4ee7-9e66-943d8cbd27b7    adore    GIF         culture   \n",
       "24572  4e4c9690-c013-4ee7-9e66-943d8cbd27b7    adore    GIF         culture   \n",
       "\n",
       "      Sentiment  Score  Month  \n",
       "0      negative      0     11  \n",
       "1      negative      0      1  \n",
       "2      negative      0      4  \n",
       "3      negative      0      3  \n",
       "4      negative      0      8  \n",
       "...         ...    ...    ...  \n",
       "24568  positive     72     10  \n",
       "24569  positive     72      9  \n",
       "24570  positive     72     10  \n",
       "24571  positive     72      6  \n",
       "24572  positive     72     12  \n",
       "\n",
       "[24573 rows x 7 columns]"
      ]
     },
     "execution_count": 119,
     "metadata": {},
     "output_type": "execute_result"
    }
   ],
   "source": [
    "dt_cont_react.drop(\"Datetime\", axis='columns')"
   ]
  },
  {
   "cell_type": "markdown",
   "id": "7a4c7551",
   "metadata": {},
   "source": [
    "Data Analysis"
   ]
  },
  {
   "cell_type": "code",
   "execution_count": 139,
   "id": "f7f0a0d7",
   "metadata": {},
   "outputs": [
    {
     "data": {
      "image/png": "[encoded data removed]",
      "text/plain": [
       "<Figure size 720x432 with 1 Axes>"
      ]
     },
     "metadata": {},
     "output_type": "display_data"
    }
   ],
   "source": [
    "#Top 5 Shared Post Categories\n",
    "category_counts = dt_cont_react['Category'].value_counts().head(5)\n",
    "plt.figure(figsize=(10, 6))\n",
    "bar_plot = sns.barplot(x=category_counts.values, y=category_counts.index, orient='h')\n",
    "plt.ylabel('Categorias')\n",
    "plt.title('Top 5 Categorias de Posts Compartilhados')\n",
    "\n",
    "for i, v in enumerate(category_counts.values):\n",
    "    bar_plot.text(v, i, str(v), ha='left', va='center')\n",
    "\n",
    "plt.show()"
   ]
  },
  {
   "cell_type": "code",
   "execution_count": 143,
   "id": "355ab040",
   "metadata": {},
   "outputs": [
    {
     "data": {
      "image/png": "[encoded data removed]",
      "text/plain": [
       "<Figure size 720x432 with 1 Axes>"
      ]
     },
     "metadata": {},
     "output_type": "display_data"
    }
   ],
   "source": [
    "#% Shared by Top 10 Categories\n",
    "category_counts = dt_cont_react['Category'].value_counts().head(10)\n",
    "\n",
    "plt.figure(figsize=(10, 6))\n",
    "plt.pie(category_counts, labels=category_counts.index, autopct='%1.1f%%')\n",
    "plt.title('% de Compartilhamento por Top 10 Categorias')\n",
    "\n",
    "plt.show()"
   ]
  },
  {
   "cell_type": "code",
   "execution_count": 152,
   "id": "d0498b8a",
   "metadata": {
    "scrolled": true
   },
   "outputs": [
    {
     "data": {
      "image/png": "[encoded data removed]",
      "text/plain": [
       "<Figure size 720x360 with 1 Axes>"
      ]
     },
     "metadata": {},
     "output_type": "display_data"
    }
   ],
   "source": [
    "#Content Distribution by Type\n",
    "type_counts = dt_cont_react ['Type'].value_counts()\n",
    "\n",
    "plt.figure(figsize=(10, 5))\n",
    "bar_plot = sns.barplot(x=type_counts.index, y=type_counts.values)\n",
    "plt.xlabel('Tipo')\n",
    "plt.title('Distribuição de Conteúdo por Tipo')\n",
    "\n",
    "for i, v in enumerate(type_counts.values):\n",
    "    bar_plot.text(i, v, str(v), ha='center', va='bottom')\n",
    "\n",
    "plt.show()"
   ]
  },
  {
   "cell_type": "code",
   "execution_count": 148,
   "id": "25f31d2b",
   "metadata": {},
   "outputs": [
    {
     "data": {
      "image/png": "[encoded data removed]",
      "text/plain": [
       "<Figure size 720x360 with 1 Axes>"
      ]
     },
     "metadata": {},
     "output_type": "display_data"
    }
   ],
   "source": [
    "#Top 5 Most Used Reactions\n",
    "reaction_counts = dt_cont_react['Reaction'].value_counts().head(5)\n",
    "\n",
    "plt.figure(figsize=(10, 5))\n",
    "bar_plot = sns.barplot(x=reaction_counts.index, y=reaction_counts.values)\n",
    "plt.xlabel('Reação')\n",
    "plt.title('Top 5 Reações Mais Utilizadas')\n",
    "\n",
    "plt.show()"
   ]
  },
  {
   "cell_type": "code",
   "execution_count": 151,
   "id": "60e404a2",
   "metadata": {},
   "outputs": [
    {
     "data": {
      "image/png": "[encoded data removed]",
      "text/plain": [
       "<Figure size 720x360 with 1 Axes>"
      ]
     },
     "metadata": {},
     "output_type": "display_data"
    }
   ],
   "source": [
    "#Posts Shared by Month\n",
    "month_count = dt_cont_react['Month'].value_counts()\n",
    "\n",
    "plt.figure(figsize=(10, 5))\n",
    "bar_plot = sns.barplot(x=month_count.index, y=month_count.values)\n",
    "plt.xlabel('Mês')\n",
    "plt.ylabel('Quantidade de Postagens')\n",
    "plt.title('Postagens Compartilhadas por Mês')\n",
    "\n",
    "plt.show()"
   ]
  },
  {
   "cell_type": "markdown",
   "id": "4f09ba2d",
   "metadata": {},
   "source": []
  }
 ],
 "metadata": {
  "kernelspec": {
   "display_name": "Python 3 (ipykernel)",
   "language": "python",
   "name": "python3"
  },
  "language_info": {
   "codemirror_mode": {
    "name": "ipython",
    "version": 3
   },
   "file_extension": ".py",
   "mimetype": "text/x-python",
   "name": "python",
   "nbconvert_exporter": "python",
   "pygments_lexer": "ipython3",
   "version": "3.9.12"
  }
 },
 "nbformat": 4,
 "nbformat_minor": 5
}
